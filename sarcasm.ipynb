{
 "cells": [
  {
   "cell_type": "code",
   "execution_count": 5,
   "metadata": {},
   "outputs": [],
   "source": [
    "import json\n",
    "import numpy as np\n",
    "import tensorflow as tf\n",
    "from tensorflow.keras.preprocessing.text import Tokenizer\n",
    "from tensorflow.keras.preprocessing.sequence import pad_sequences"
   ]
  },
  {
   "cell_type": "code",
   "execution_count": 2,
   "metadata": {},
   "outputs": [
    {
     "name": "stdout",
     "output_type": "stream",
     "text": [
      "  % Total    % Received % Xferd  Average Speed   Time    Time     Time  Current\n",
      "                                 Dload  Upload   Total   Spent    Left  Speed\n",
      "100 5511k  100 5511k    0     0   405k      0  0:00:13  0:00:13 --:--:--  725k\n"
     ]
    }
   ],
   "source": [
    "vocab_size = 10000\n",
    "embedding_dim = 16\n",
    "max_length = 32\n",
    "trunc_type = 'post'\n",
    "padding_type = 'post'\n",
    "oov_tok = '<oov>'\n",
    "training_size = 20000\n",
    "!curl https://storage.googleapis.com/laurencemoroney-blog.appspot.com/sarcasm.json --output ./tmp/sarcasm.json"
   ]
  },
  {
   "cell_type": "code",
   "execution_count": 3,
   "metadata": {},
   "outputs": [],
   "source": [
    "with open(\"./tmp/sarcasm.json\", \"r\") as f:\n",
    "    datastore = json.load(f)\n",
    "\n",
    "sentences = []\n",
    "labels = []\n",
    "\n",
    "for item in datastore:\n",
    "    sentences.append(item['headline'])\n",
    "    labels.append(item['is_sarcastic'])"
   ]
  },
  {
   "cell_type": "code",
   "execution_count": 6,
   "metadata": {},
   "outputs": [],
   "source": [
    "training_sentences = np.array(sentences[0:training_size])\n",
    "testing_sentences = np.array(sentences[training_size:])\n",
    "training_labels = np.array(labels[0:training_size])\n",
    "testing_labels = np.array(labels[training_size:])"
   ]
  },
  {
   "cell_type": "code",
   "execution_count": 7,
   "metadata": {},
   "outputs": [],
   "source": [
    "tokenizer = Tokenizer(num_words=vocab_size, oov_token=oov_tok)\n",
    "tokenizer.fit_on_texts(training_sentences)\n",
    "word_index = tokenizer.word_index\n",
    "training_sequences = tokenizer.texts_to_sequences(training_sentences)\n",
    "training_padded = pad_sequences(training_sequences, maxlen=max_length, padding=padding_type, truncating=trunc_type)\n",
    "testing_sequences = tokenizer.texts_to_sequences(testing_sentences)\n",
    "testing_padded = pad_sequences(testing_sequences, maxlen=max_length, padding=padding_type, truncating=trunc_type)"
   ]
  },
  {
   "cell_type": "code",
   "execution_count": 8,
   "metadata": {},
   "outputs": [
    {
     "name": "stdout",
     "output_type": "stream",
     "text": [
      "Model: \"sequential\"\n",
      "_________________________________________________________________\n",
      "Layer (type)                 Output Shape              Param #   \n",
      "=================================================================\n",
      "embedding (Embedding)        (None, 32, 16)            160000    \n",
      "_________________________________________________________________\n",
      "global_average_pooling1d (Gl (None, 16)                0         \n",
      "_________________________________________________________________\n",
      "dense (Dense)                (None, 24)                408       \n",
      "_________________________________________________________________\n",
      "dense_1 (Dense)              (None, 1)                 25        \n",
      "=================================================================\n",
      "Total params: 160,433\n",
      "Trainable params: 160,433\n",
      "Non-trainable params: 0\n",
      "_________________________________________________________________\n"
     ]
    }
   ],
   "source": [
    "model = tf.keras.Sequential([\n",
    "    tf.keras.layers.Embedding(vocab_size, embedding_dim, input_length = max_length),\n",
    "    tf.keras.layers.GlobalAveragePooling1D(),\n",
    "    tf.keras.layers.Dense(24, activation='relu'),\n",
    "    tf.keras.layers.Dense(1, activation='sigmoid')\n",
    "])\n",
    "model.summary()"
   ]
  },
  {
   "cell_type": "code",
   "execution_count": 9,
   "metadata": {},
   "outputs": [
    {
     "name": "stdout",
     "output_type": "stream",
     "text": [
      "Epoch 1/30\n",
      "625/625 [==============================] - 1s 1ms/step - loss: 0.5710 - accuracy: 0.6980 - val_loss: 0.4029 - val_accuracy: 0.8314\n",
      "Epoch 2/30\n",
      "625/625 [==============================] - 1s 1ms/step - loss: 0.3187 - accuracy: 0.8702 - val_loss: 0.3425 - val_accuracy: 0.8553\n",
      "Epoch 3/30\n",
      "625/625 [==============================] - 1s 1ms/step - loss: 0.2404 - accuracy: 0.9065 - val_loss: 0.3391 - val_accuracy: 0.8562\n",
      "Epoch 4/30\n",
      "625/625 [==============================] - 1s 1ms/step - loss: 0.1934 - accuracy: 0.9259 - val_loss: 0.3743 - val_accuracy: 0.8402\n",
      "Epoch 5/30\n",
      "625/625 [==============================] - 1s 1ms/step - loss: 0.1604 - accuracy: 0.9396 - val_loss: 0.3790 - val_accuracy: 0.8524\n",
      "Epoch 6/30\n",
      "625/625 [==============================] - 1s 1ms/step - loss: 0.1367 - accuracy: 0.9507 - val_loss: 0.4083 - val_accuracy: 0.8496\n",
      "Epoch 7/30\n",
      "625/625 [==============================] - 1s 1ms/step - loss: 0.1167 - accuracy: 0.9610 - val_loss: 0.4462 - val_accuracy: 0.8462\n",
      "Epoch 8/30\n",
      "625/625 [==============================] - 1s 1ms/step - loss: 0.1006 - accuracy: 0.9663 - val_loss: 0.4809 - val_accuracy: 0.8426\n",
      "Epoch 9/30\n",
      "625/625 [==============================] - 1s 1ms/step - loss: 0.0878 - accuracy: 0.9730 - val_loss: 0.5255 - val_accuracy: 0.8375\n",
      "Epoch 10/30\n",
      "625/625 [==============================] - 1s 1ms/step - loss: 0.0761 - accuracy: 0.9759 - val_loss: 0.5665 - val_accuracy: 0.8322\n",
      "Epoch 11/30\n",
      "625/625 [==============================] - 1s 1ms/step - loss: 0.0665 - accuracy: 0.9796 - val_loss: 0.6146 - val_accuracy: 0.8292\n",
      "Epoch 12/30\n",
      "625/625 [==============================] - 1s 1ms/step - loss: 0.0576 - accuracy: 0.9829 - val_loss: 0.6638 - val_accuracy: 0.8277\n",
      "Epoch 13/30\n",
      "625/625 [==============================] - 1s 1ms/step - loss: 0.0501 - accuracy: 0.9851 - val_loss: 0.7138 - val_accuracy: 0.8241\n",
      "Epoch 14/30\n",
      "625/625 [==============================] - 1s 1ms/step - loss: 0.0449 - accuracy: 0.9874 - val_loss: 0.7702 - val_accuracy: 0.8240\n",
      "Epoch 15/30\n",
      "625/625 [==============================] - 1s 1ms/step - loss: 0.0399 - accuracy: 0.9891 - val_loss: 0.8143 - val_accuracy: 0.8192\n",
      "Epoch 16/30\n",
      "625/625 [==============================] - 1s 1ms/step - loss: 0.0344 - accuracy: 0.9908 - val_loss: 0.8627 - val_accuracy: 0.8176\n",
      "Epoch 17/30\n",
      "625/625 [==============================] - 1s 1ms/step - loss: 0.0306 - accuracy: 0.9920 - val_loss: 0.9174 - val_accuracy: 0.8167\n",
      "Epoch 18/30\n",
      "625/625 [==============================] - 1s 1ms/step - loss: 0.0272 - accuracy: 0.9921 - val_loss: 0.9920 - val_accuracy: 0.8119\n",
      "Epoch 19/30\n",
      "625/625 [==============================] - 1s 1ms/step - loss: 0.0253 - accuracy: 0.9927 - val_loss: 1.0446 - val_accuracy: 0.8135\n",
      "Epoch 20/30\n",
      "625/625 [==============================] - 1s 1ms/step - loss: 0.0227 - accuracy: 0.9934 - val_loss: 1.0999 - val_accuracy: 0.8123\n",
      "Epoch 21/30\n",
      "625/625 [==============================] - 1s 1ms/step - loss: 0.0198 - accuracy: 0.9944 - val_loss: 1.1691 - val_accuracy: 0.8113\n",
      "Epoch 22/30\n",
      "625/625 [==============================] - 1s 1ms/step - loss: 0.0176 - accuracy: 0.9953 - val_loss: 1.2352 - val_accuracy: 0.8074\n",
      "Epoch 23/30\n",
      "625/625 [==============================] - 1s 1ms/step - loss: 0.0151 - accuracy: 0.9959 - val_loss: 1.2913 - val_accuracy: 0.8049\n",
      "Epoch 24/30\n",
      "625/625 [==============================] - 1s 1ms/step - loss: 0.0145 - accuracy: 0.9963 - val_loss: 1.3524 - val_accuracy: 0.8076\n",
      "Epoch 25/30\n",
      "625/625 [==============================] - 1s 1ms/step - loss: 0.0139 - accuracy: 0.9959 - val_loss: 1.4176 - val_accuracy: 0.8064\n",
      "Epoch 26/30\n",
      "625/625 [==============================] - 1s 1ms/step - loss: 0.0115 - accuracy: 0.9969 - val_loss: 1.4939 - val_accuracy: 0.8021\n",
      "Epoch 27/30\n",
      "625/625 [==============================] - 1s 1ms/step - loss: 0.0104 - accuracy: 0.9970 - val_loss: 1.5635 - val_accuracy: 0.8028\n",
      "Epoch 28/30\n",
      "625/625 [==============================] - 1s 1ms/step - loss: 0.0090 - accuracy: 0.9977 - val_loss: 1.6525 - val_accuracy: 0.8038\n",
      "Epoch 29/30\n",
      "625/625 [==============================] - 1s 1ms/step - loss: 0.0079 - accuracy: 0.9977 - val_loss: 1.7167 - val_accuracy: 0.8043\n",
      "Epoch 30/30\n",
      "625/625 [==============================] - 1s 1ms/step - loss: 0.0072 - accuracy: 0.9980 - val_loss: 1.7766 - val_accuracy: 0.8041\n"
     ]
    }
   ],
   "source": [
    "model.compile(optimizer='adam',\n",
    "             loss='binary_crossentropy',\n",
    "             metrics=['accuracy'])\n",
    "\n",
    "num_epochs = 30\n",
    "history = model.fit(training_padded,\n",
    "                     training_labels,\n",
    "                     epochs=num_epochs,\n",
    "                     validation_data=(testing_padded,testing_labels))"
   ]
  },
  {
   "cell_type": "code",
   "execution_count": 13,
   "metadata": {},
   "outputs": [
    {
     "data": {
      "image/png": "[encoded data removed]",
      "text/plain": [
       "<Figure size 432x288 with 1 Axes>"
      ]
     },
     "metadata": {
      "needs_background": "light"
     },
     "output_type": "display_data"
    }
   ],
   "source": [
    "import matplotlib.pyplot as plt\n",
    "def plot_graphs(history,string):\n",
    "    plt.plot((history.history[string]))\n",
    "    plt.plot(history.history['val_'+string])\n",
    "    plt.xlabel(\"Epochs\")\n",
    "    plt.ylabel(string)\n",
    "    plt.legend([string, 'val_' + string])\n",
    "    plt.show\n",
    "    \n",
    "plot_graphs(history, \"accuracy\")\n",
    "plot_graphs(history, \"loss\")"
   ]
  },
  {
   "cell_type": "code",
   "execution_count": null,
   "metadata": {},
   "outputs": [],
   "source": [
    "e = model.layers[0]\n",
    "weights = e.get_weights()[0]\n",
    "print(weights.shape)"
   ]
  },
  {
   "cell_type": "code",
   "execution_count": 14,
   "metadata": {},
   "outputs": [
    {
     "name": "stdout",
     "output_type": "stream",
     "text": [
      "former <oov> store clerk sues over secret 'black <oov> for minority shoppers ? ? ? ? ? ? ? ? ? ? ? ? ? ? ? ? ? ? ? ?\n",
      "mom starting to fear son's web series closest thing she will have to grandchild\n",
      "1\n"
     ]
    }
   ],
   "source": [
    "reverse_word_index = dict([(value, key) for (key, value) in word_index.items()])\n",
    "\n",
    "def decode_sentence(text):\n",
    "    return ' '.join([reverse_word_index.get(i, '?') for i in text])\n",
    "\n",
    "print(decode_sentence(training_padded[0]))\n",
    "print(training_sentences[2])\n",
    "print(labels[2])"
   ]
  },
  {
   "cell_type": "code",
   "execution_count": 15,
   "metadata": {},
   "outputs": [
    {
     "name": "stdout",
     "output_type": "stream",
     "text": [
      "(10000, 16)\n"
     ]
    }
   ],
   "source": [
    "e = model.layers[0]\n",
    "weights = e.get_weights()[0]\n",
    "print(weights.shape) # shape: (vocab_size, embedding_dim)"
   ]
  },
  {
   "cell_type": "code",
   "execution_count": 16,
   "metadata": {},
   "outputs": [],
   "source": [
    "import io\n",
    "\n",
    "out_v = io.open('./tmp/vecs.tsv', 'w', encoding='utf-8')\n",
    "out_m = io.open('./tmp/meta.tsv', 'w', encoding='utf-8')\n",
    "for word_num in range(1, vocab_size):\n",
    "  word = reverse_word_index[word_num]\n",
    "  embeddings = weights[word_num]\n",
    "  out_m.write(word + \"\\n\")\n",
    "  out_v.write('\\t'.join([str(x) for x in embeddings]) + \"\\n\")\n",
    "out_v.close()\n",
    "out_m.close()"
   ]
  },
  {
   "cell_type": "code",
   "execution_count": 17,
   "metadata": {},
   "outputs": [
    {
     "name": "stdout",
     "output_type": "stream",
     "text": [
      "[[9.9859923e-01]\n",
      " [3.8753444e-07]]\n"
     ]
    }
   ],
   "source": [
    "sentence = [\"granny starting to fear spiders in the garden might be real\", \"game of thrones season finale showing this sunday night\"]\n",
    "sequences = tokenizer.texts_to_sequences(sentence)\n",
    "padded = pad_sequences(sequences, maxlen=max_length, padding=padding_type, truncating=trunc_type)\n",
    "print(model.predict(padded))"
   ]
  }
 ],
 "metadata": {
  "kernelspec": {
   "display_name": "Python 3",
   "language": "python",
   "name": "python3"
  },
  "language_info": {
   "codemirror_mode": {
    "name": "ipython",
    "version": 3
   },
   "file_extension": ".py",
   "mimetype": "text/x-python",
   "name": "python",
   "nbconvert_exporter": "python",
   "pygments_lexer": "ipython3",
   "version": "3.7.9"
  }
 },
 "nbformat": 4,
 "nbformat_minor": 4
}
